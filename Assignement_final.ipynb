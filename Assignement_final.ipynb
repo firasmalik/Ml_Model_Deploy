{
 "cells": [
  {
   "cell_type": "markdown",
   "metadata": {},
   "source": [
    "Importing Libraries"
   ]
  },
  {
   "cell_type": "code",
   "execution_count": 252,
   "metadata": {},
   "outputs": [],
   "source": [
    "import pandas as pd\n",
    "import numpy as np\n",
    "from sklearn import preprocessing\n",
    "import matplotlib.pyplot as plt \n",
    "\n",
    "from sklearn import metrics\n",
    "from sklearn.metrics import f1_score\n",
    "from sklearn.model_selection import train_test_split\n",
    "from sklearn.preprocessing import StandardScaler\n",
    "from sklearn import model_selection\n",
    "from sklearn.model_selection import KFold\n",
    "from sklearn.ensemble import RandomForestClassifier\n",
    "\n",
    "from sklearn.model_selection import  GridSearchCV\n",
    "from imblearn.over_sampling import SMOTE as sm\n",
    "from sklearn.feature_selection import SelectFromModel\n",
    "import imblearn\n",
    "import seaborn as sns\n",
    "sns.set(style=\"white\")\n",
    "sns.set(style=\"whitegrid\", color_codes=True)\n",
    "plt.rc(\"font\", size=14)\n"
   ]
  },
  {
   "cell_type": "markdown",
   "metadata": {},
   "source": [
    "DATA "
   ]
  },
  {
   "cell_type": "code",
   "execution_count": 218,
   "metadata": {},
   "outputs": [],
   "source": [
    "data_log=pd.read_csv(\"synthetic.csv\")"
   ]
  },
  {
   "cell_type": "markdown",
   "metadata": {},
   "source": [
    "Data Analysis"
   ]
  },
  {
   "cell_type": "code",
   "execution_count": 219,
   "metadata": {},
   "outputs": [
    {
     "data": {
      "text/html": [
       "<div>\n",
       "<style scoped>\n",
       "    .dataframe tbody tr th:only-of-type {\n",
       "        vertical-align: middle;\n",
       "    }\n",
       "\n",
       "    .dataframe tbody tr th {\n",
       "        vertical-align: top;\n",
       "    }\n",
       "\n",
       "    .dataframe thead th {\n",
       "        text-align: right;\n",
       "    }\n",
       "</style>\n",
       "<table border=\"1\" class=\"dataframe\">\n",
       "  <thead>\n",
       "    <tr style=\"text-align: right;\">\n",
       "      <th></th>\n",
       "      <th>x1</th>\n",
       "      <th>x2</th>\n",
       "      <th>x3</th>\n",
       "      <th>x4</th>\n",
       "      <th>x5</th>\n",
       "      <th>x6</th>\n",
       "      <th>x7</th>\n",
       "      <th>x8</th>\n",
       "      <th>x9</th>\n",
       "      <th>x10</th>\n",
       "      <th>...</th>\n",
       "      <th>x22</th>\n",
       "      <th>x23</th>\n",
       "      <th>x24</th>\n",
       "      <th>x25</th>\n",
       "      <th>x26</th>\n",
       "      <th>x27</th>\n",
       "      <th>x28</th>\n",
       "      <th>x29</th>\n",
       "      <th>x30</th>\n",
       "      <th>y</th>\n",
       "    </tr>\n",
       "  </thead>\n",
       "  <tbody>\n",
       "    <tr>\n",
       "      <th>count</th>\n",
       "      <td>1000.000000</td>\n",
       "      <td>1000.000000</td>\n",
       "      <td>1000.000000</td>\n",
       "      <td>1000.000000</td>\n",
       "      <td>1000.000000</td>\n",
       "      <td>1000.000000</td>\n",
       "      <td>1000.000000</td>\n",
       "      <td>1000.000000</td>\n",
       "      <td>1000.000000</td>\n",
       "      <td>1000.000000</td>\n",
       "      <td>...</td>\n",
       "      <td>1000.000000</td>\n",
       "      <td>1000.000000</td>\n",
       "      <td>1000.000000</td>\n",
       "      <td>1000.000000</td>\n",
       "      <td>1000.000000</td>\n",
       "      <td>1000.000000</td>\n",
       "      <td>1000.000000</td>\n",
       "      <td>1000.000000</td>\n",
       "      <td>1000.000000</td>\n",
       "      <td>1000.000000</td>\n",
       "    </tr>\n",
       "    <tr>\n",
       "      <th>mean</th>\n",
       "      <td>-13.028746</td>\n",
       "      <td>2.182041</td>\n",
       "      <td>-0.331036</td>\n",
       "      <td>-1.501078</td>\n",
       "      <td>-12.622918</td>\n",
       "      <td>-10.854249</td>\n",
       "      <td>15.199978</td>\n",
       "      <td>-1.989472</td>\n",
       "      <td>6.407913</td>\n",
       "      <td>-2.926042</td>\n",
       "      <td>...</td>\n",
       "      <td>-5.472288</td>\n",
       "      <td>10.543841</td>\n",
       "      <td>-6.003123</td>\n",
       "      <td>3.746927</td>\n",
       "      <td>18.425973</td>\n",
       "      <td>2.742845</td>\n",
       "      <td>3.475475</td>\n",
       "      <td>1.864313</td>\n",
       "      <td>-1.137531</td>\n",
       "      <td>0.145000</td>\n",
       "    </tr>\n",
       "    <tr>\n",
       "      <th>std</th>\n",
       "      <td>3.659720</td>\n",
       "      <td>1.314388</td>\n",
       "      <td>4.259927</td>\n",
       "      <td>1.922640</td>\n",
       "      <td>3.604514</td>\n",
       "      <td>9.750920</td>\n",
       "      <td>7.206344</td>\n",
       "      <td>6.454849</td>\n",
       "      <td>16.872978</td>\n",
       "      <td>0.673362</td>\n",
       "      <td>...</td>\n",
       "      <td>0.272104</td>\n",
       "      <td>8.311382</td>\n",
       "      <td>1.873970</td>\n",
       "      <td>4.962534</td>\n",
       "      <td>6.134947</td>\n",
       "      <td>7.049830</td>\n",
       "      <td>2.048401</td>\n",
       "      <td>10.351793</td>\n",
       "      <td>8.543692</td>\n",
       "      <td>0.352277</td>\n",
       "    </tr>\n",
       "    <tr>\n",
       "      <th>min</th>\n",
       "      <td>-25.548066</td>\n",
       "      <td>-1.599455</td>\n",
       "      <td>-14.930338</td>\n",
       "      <td>-10.215498</td>\n",
       "      <td>-24.600418</td>\n",
       "      <td>-55.753091</td>\n",
       "      <td>-4.320908</td>\n",
       "      <td>-22.643235</td>\n",
       "      <td>-51.040173</td>\n",
       "      <td>-4.907236</td>\n",
       "      <td>...</td>\n",
       "      <td>-6.378320</td>\n",
       "      <td>-14.553686</td>\n",
       "      <td>-12.804169</td>\n",
       "      <td>-10.970233</td>\n",
       "      <td>-1.014732</td>\n",
       "      <td>-18.778590</td>\n",
       "      <td>-2.594584</td>\n",
       "      <td>-30.715194</td>\n",
       "      <td>-27.231646</td>\n",
       "      <td>0.000000</td>\n",
       "    </tr>\n",
       "    <tr>\n",
       "      <th>25%</th>\n",
       "      <td>-15.588659</td>\n",
       "      <td>1.285855</td>\n",
       "      <td>-3.149624</td>\n",
       "      <td>-2.808884</td>\n",
       "      <td>-15.109200</td>\n",
       "      <td>-17.120274</td>\n",
       "      <td>10.231755</td>\n",
       "      <td>-6.188742</td>\n",
       "      <td>-4.853568</td>\n",
       "      <td>-3.383162</td>\n",
       "      <td>...</td>\n",
       "      <td>-5.666194</td>\n",
       "      <td>4.728117</td>\n",
       "      <td>-7.268277</td>\n",
       "      <td>0.279869</td>\n",
       "      <td>14.232877</td>\n",
       "      <td>-2.051034</td>\n",
       "      <td>2.102943</td>\n",
       "      <td>-4.779697</td>\n",
       "      <td>-6.883752</td>\n",
       "      <td>0.000000</td>\n",
       "    </tr>\n",
       "    <tr>\n",
       "      <th>50%</th>\n",
       "      <td>-13.072938</td>\n",
       "      <td>2.170483</td>\n",
       "      <td>-0.367062</td>\n",
       "      <td>-1.510223</td>\n",
       "      <td>-12.498793</td>\n",
       "      <td>-11.170167</td>\n",
       "      <td>15.196222</td>\n",
       "      <td>-2.026093</td>\n",
       "      <td>6.431541</td>\n",
       "      <td>-2.928571</td>\n",
       "      <td>...</td>\n",
       "      <td>-5.467538</td>\n",
       "      <td>10.698797</td>\n",
       "      <td>-5.919298</td>\n",
       "      <td>3.841361</td>\n",
       "      <td>18.301716</td>\n",
       "      <td>2.989103</td>\n",
       "      <td>3.488600</td>\n",
       "      <td>1.362105</td>\n",
       "      <td>-1.012529</td>\n",
       "      <td>0.000000</td>\n",
       "    </tr>\n",
       "    <tr>\n",
       "      <th>75%</th>\n",
       "      <td>-10.534016</td>\n",
       "      <td>3.021294</td>\n",
       "      <td>2.485166</td>\n",
       "      <td>-0.237209</td>\n",
       "      <td>-10.214818</td>\n",
       "      <td>-4.522221</td>\n",
       "      <td>19.901376</td>\n",
       "      <td>2.392737</td>\n",
       "      <td>18.145285</td>\n",
       "      <td>-2.487445</td>\n",
       "      <td>...</td>\n",
       "      <td>-5.287631</td>\n",
       "      <td>16.268073</td>\n",
       "      <td>-4.677299</td>\n",
       "      <td>7.306957</td>\n",
       "      <td>22.495502</td>\n",
       "      <td>7.393532</td>\n",
       "      <td>4.913292</td>\n",
       "      <td>8.998301</td>\n",
       "      <td>4.753629</td>\n",
       "      <td>0.000000</td>\n",
       "    </tr>\n",
       "    <tr>\n",
       "      <th>max</th>\n",
       "      <td>-2.382520</td>\n",
       "      <td>6.026316</td>\n",
       "      <td>14.980421</td>\n",
       "      <td>5.101086</td>\n",
       "      <td>2.182904</td>\n",
       "      <td>23.826332</td>\n",
       "      <td>36.646915</td>\n",
       "      <td>19.820630</td>\n",
       "      <td>55.897492</td>\n",
       "      <td>-0.712244</td>\n",
       "      <td>...</td>\n",
       "      <td>-4.671847</td>\n",
       "      <td>36.154495</td>\n",
       "      <td>-0.188857</td>\n",
       "      <td>20.068337</td>\n",
       "      <td>36.539176</td>\n",
       "      <td>25.577773</td>\n",
       "      <td>9.590002</td>\n",
       "      <td>31.900767</td>\n",
       "      <td>31.280122</td>\n",
       "      <td>1.000000</td>\n",
       "    </tr>\n",
       "  </tbody>\n",
       "</table>\n",
       "<p>8 rows × 31 columns</p>\n",
       "</div>"
      ],
      "text/plain": [
       "                x1           x2           x3           x4           x5  \\\n",
       "count  1000.000000  1000.000000  1000.000000  1000.000000  1000.000000   \n",
       "mean    -13.028746     2.182041    -0.331036    -1.501078   -12.622918   \n",
       "std       3.659720     1.314388     4.259927     1.922640     3.604514   \n",
       "min     -25.548066    -1.599455   -14.930338   -10.215498   -24.600418   \n",
       "25%     -15.588659     1.285855    -3.149624    -2.808884   -15.109200   \n",
       "50%     -13.072938     2.170483    -0.367062    -1.510223   -12.498793   \n",
       "75%     -10.534016     3.021294     2.485166    -0.237209   -10.214818   \n",
       "max      -2.382520     6.026316    14.980421     5.101086     2.182904   \n",
       "\n",
       "                x6           x7           x8           x9          x10  ...  \\\n",
       "count  1000.000000  1000.000000  1000.000000  1000.000000  1000.000000  ...   \n",
       "mean    -10.854249    15.199978    -1.989472     6.407913    -2.926042  ...   \n",
       "std       9.750920     7.206344     6.454849    16.872978     0.673362  ...   \n",
       "min     -55.753091    -4.320908   -22.643235   -51.040173    -4.907236  ...   \n",
       "25%     -17.120274    10.231755    -6.188742    -4.853568    -3.383162  ...   \n",
       "50%     -11.170167    15.196222    -2.026093     6.431541    -2.928571  ...   \n",
       "75%      -4.522221    19.901376     2.392737    18.145285    -2.487445  ...   \n",
       "max      23.826332    36.646915    19.820630    55.897492    -0.712244  ...   \n",
       "\n",
       "               x22          x23          x24          x25          x26  \\\n",
       "count  1000.000000  1000.000000  1000.000000  1000.000000  1000.000000   \n",
       "mean     -5.472288    10.543841    -6.003123     3.746927    18.425973   \n",
       "std       0.272104     8.311382     1.873970     4.962534     6.134947   \n",
       "min      -6.378320   -14.553686   -12.804169   -10.970233    -1.014732   \n",
       "25%      -5.666194     4.728117    -7.268277     0.279869    14.232877   \n",
       "50%      -5.467538    10.698797    -5.919298     3.841361    18.301716   \n",
       "75%      -5.287631    16.268073    -4.677299     7.306957    22.495502   \n",
       "max      -4.671847    36.154495    -0.188857    20.068337    36.539176   \n",
       "\n",
       "               x27          x28          x29          x30            y  \n",
       "count  1000.000000  1000.000000  1000.000000  1000.000000  1000.000000  \n",
       "mean      2.742845     3.475475     1.864313    -1.137531     0.145000  \n",
       "std       7.049830     2.048401    10.351793     8.543692     0.352277  \n",
       "min     -18.778590    -2.594584   -30.715194   -27.231646     0.000000  \n",
       "25%      -2.051034     2.102943    -4.779697    -6.883752     0.000000  \n",
       "50%       2.989103     3.488600     1.362105    -1.012529     0.000000  \n",
       "75%       7.393532     4.913292     8.998301     4.753629     0.000000  \n",
       "max      25.577773     9.590002    31.900767    31.280122     1.000000  \n",
       "\n",
       "[8 rows x 31 columns]"
      ]
     },
     "execution_count": 219,
     "metadata": {},
     "output_type": "execute_result"
    }
   ],
   "source": [
    "data_log.describe()"
   ]
  },
  {
   "cell_type": "code",
   "execution_count": 220,
   "metadata": {},
   "outputs": [
    {
     "data": {
      "text/plain": [
       "(1000, 31)"
      ]
     },
     "execution_count": 220,
     "metadata": {},
     "output_type": "execute_result"
    }
   ],
   "source": [
    "data_log.shape"
   ]
  },
  {
   "cell_type": "code",
   "execution_count": 221,
   "metadata": {},
   "outputs": [
    {
     "name": "stdout",
     "output_type": "stream",
     "text": [
      "<class 'pandas.core.frame.DataFrame'>\n",
      "RangeIndex: 1000 entries, 0 to 999\n",
      "Data columns (total 31 columns):\n",
      "x1     1000 non-null float64\n",
      "x2     1000 non-null float64\n",
      "x3     1000 non-null float64\n",
      "x4     1000 non-null float64\n",
      "x5     1000 non-null float64\n",
      "x6     1000 non-null float64\n",
      "x7     1000 non-null float64\n",
      "x8     1000 non-null float64\n",
      "x9     1000 non-null float64\n",
      "x10    1000 non-null float64\n",
      "x11    1000 non-null float64\n",
      "x12    1000 non-null float64\n",
      "x13    1000 non-null float64\n",
      "x14    1000 non-null float64\n",
      "x15    1000 non-null float64\n",
      "x16    1000 non-null float64\n",
      "x17    1000 non-null float64\n",
      "x18    1000 non-null float64\n",
      "x19    1000 non-null float64\n",
      "x20    1000 non-null float64\n",
      "x21    1000 non-null float64\n",
      "x22    1000 non-null float64\n",
      "x23    1000 non-null float64\n",
      "x24    1000 non-null float64\n",
      "x25    1000 non-null float64\n",
      "x26    1000 non-null float64\n",
      "x27    1000 non-null float64\n",
      "x28    1000 non-null float64\n",
      "x29    1000 non-null float64\n",
      "x30    1000 non-null float64\n",
      "y      1000 non-null int64\n",
      "dtypes: float64(30), int64(1)\n",
      "memory usage: 242.3 KB\n"
     ]
    }
   ],
   "source": [
    "data_log.info()"
   ]
  },
  {
   "cell_type": "code",
   "execution_count": 222,
   "metadata": {},
   "outputs": [
    {
     "name": "stdout",
     "output_type": "stream",
     "text": [
      "0    855\n",
      "1    145\n",
      "Name: y, dtype: int64\n"
     ]
    }
   ],
   "source": [
    "print(data_log[\"y\"].value_counts(dropna=False))\n"
   ]
  },
  {
   "cell_type": "code",
   "execution_count": 223,
   "metadata": {},
   "outputs": [
    {
     "data": {
      "text/plain": [
       "<matplotlib.axes._subplots.AxesSubplot at 0x7fd9e71c1250>"
      ]
     },
     "execution_count": 223,
     "metadata": {},
     "output_type": "execute_result"
    },
    {
     "data": {
      "image/png": "[encoded data removed]",
      "text/plain": [
       "<Figure size 432x288 with 1 Axes>"
      ]
     },
     "metadata": {},
     "output_type": "display_data"
    }
   ],
   "source": [
    "sns.countplot(x=\"y\",data=data_log,palette=\"hls\")"
   ]
  },
  {
   "cell_type": "code",
   "execution_count": 224,
   "metadata": {},
   "outputs": [],
   "source": [
    "#check missing values"
   ]
  },
  {
   "cell_type": "code",
   "execution_count": 225,
   "metadata": {},
   "outputs": [
    {
     "data": {
      "text/plain": [
       "<matplotlib.axes._subplots.AxesSubplot at 0x7fd9e5698e90>"
      ]
     },
     "execution_count": 225,
     "metadata": {},
     "output_type": "execute_result"
    },
    {
     "data": {
      "image/png": "[encoded data removed]",
      "text/plain": [
       "<Figure size 432x288 with 2 Axes>"
      ]
     },
     "metadata": {},
     "output_type": "display_data"
    }
   ],
   "source": [
    "sns.heatmap(data_log.isnull(),yticklabels=False)"
   ]
  },
  {
   "cell_type": "code",
   "execution_count": 226,
   "metadata": {},
   "outputs": [],
   "source": [
    "#check outliers"
   ]
  },
  {
   "cell_type": "code",
   "execution_count": 227,
   "metadata": {},
   "outputs": [
    {
     "data": {
      "text/plain": [
       "Index(['x1', 'x2', 'x3', 'x4', 'x5', 'x6', 'x7', 'x8', 'x9', 'x10', 'x11',\n",
       "       'x12', 'x13', 'x14', 'x15', 'x16', 'x17', 'x18', 'x19', 'x20', 'x21',\n",
       "       'x22', 'x23', 'x24', 'x25', 'x26', 'x27', 'x28', 'x29', 'x30', 'y'],\n",
       "      dtype='object')"
      ]
     },
     "execution_count": 227,
     "metadata": {},
     "output_type": "execute_result"
    }
   ],
   "source": [
    "data_log.columns"
   ]
  },
  {
   "cell_type": "code",
   "execution_count": 228,
   "metadata": {},
   "outputs": [
    {
     "data": {
      "text/plain": [
       "<matplotlib.axes._subplots.AxesSubplot at 0x7fd9e561a3d0>"
      ]
     },
     "execution_count": 228,
     "metadata": {},
     "output_type": "execute_result"
    },
    {
     "data": {
      "image/png": "[encoded data removed]",
      "text/plain": [
       "<Figure size 432x288 with 1 Axes>"
      ]
     },
     "metadata": {},
     "output_type": "display_data"
    }
   ],
   "source": [
    "sns.boxplot(x=data_log['x1'])"
   ]
  },
  {
   "cell_type": "code",
   "execution_count": 229,
   "metadata": {},
   "outputs": [],
   "source": [
    "##seems some variables have outliers"
   ]
  },
  {
   "cell_type": "code",
   "execution_count": 230,
   "metadata": {
    "scrolled": true
   },
   "outputs": [
    {
     "name": "stdout",
     "output_type": "stream",
     "text": [
      "[[4.56570406e-01 1.42852045e-01 3.33576939e-01 ... 1.28617286e+00\n",
      "  3.58842176e-01 2.42828164e+00]\n",
      " [1.24970839e+00 5.10842624e-04 3.06119767e-01 ... 9.87117048e-01\n",
      "  5.31055476e-01 4.11813845e-01]\n",
      " [1.77348952e+00 6.98886603e-01 3.83844771e-02 ... 7.08620245e-01\n",
      "  4.94901533e-01 4.11813845e-01]\n",
      " ...\n",
      " [1.44698409e+00 3.27024675e-01 9.84698350e-01 ... 1.78089160e+00\n",
      "  5.17430217e-02 4.11813845e-01]\n",
      " [8.87366645e-01 1.08638904e-01 2.43159489e-01 ... 1.40417098e+00\n",
      "  2.56274133e+00 4.11813845e-01]\n",
      " [5.54009156e-01 1.99419823e-01 1.30618295e-01 ... 7.04138993e-01\n",
      "  2.98374432e-01 4.11813845e-01]]\n"
     ]
    }
   ],
   "source": [
    "from scipy import stats\n",
    "z = np.abs(stats.zscore(data_log))\n",
    "print(z)"
   ]
  },
  {
   "cell_type": "code",
   "execution_count": 231,
   "metadata": {},
   "outputs": [
    {
     "name": "stdout",
     "output_type": "stream",
     "text": [
      "(array([ 18,  58,  79,  90, 104, 111, 133, 150, 167, 167, 180, 186, 187,\n",
      "       192, 211, 223, 229, 262, 271, 323, 334, 343, 347, 348, 350, 351,\n",
      "       366, 369, 375, 395, 398, 417, 418, 418, 429, 436, 439, 442, 442,\n",
      "       444, 451, 466, 504, 515, 522, 529, 537, 537, 571, 592, 595, 640,\n",
      "       642, 645, 651, 652, 687, 706, 769, 770, 775, 779, 781, 784, 798,\n",
      "       798, 808, 809, 809, 828, 828, 841, 846, 851, 853, 865, 870, 886,\n",
      "       900, 935, 991]), array([ 2, 14,  8, 20, 18, 13, 11, 10,  3, 29, 18, 15,  5,  5, 16, 22, 18,\n",
      "        4, 21,  8, 11, 28, 23, 18, 20,  3, 15,  3, 13, 14,  0, 26,  0, 26,\n",
      "        7, 15, 24,  2,  3,  5, 18, 24, 25, 21, 22, 20, 17, 29,  8, 11, 22,\n",
      "       13,  7,  2, 14, 11, 10,  4, 14,  9, 19,  2, 16, 23,  3,  5, 15, 25,\n",
      "       26, 15, 26, 18, 29,  7, 18, 20, 10,  4, 10,  2,  7]))\n"
     ]
    }
   ],
   "source": [
    "##setting threshhold\n",
    "threshold = 3\n",
    "print(np.where(z > 3))"
   ]
  },
  {
   "cell_type": "code",
   "execution_count": 232,
   "metadata": {},
   "outputs": [],
   "source": [
    "###fixing oultiers"
   ]
  },
  {
   "cell_type": "code",
   "execution_count": 233,
   "metadata": {},
   "outputs": [],
   "source": [
    "data_log_o = data_log[(z < 3).all(axis=1)]"
   ]
  },
  {
   "cell_type": "code",
   "execution_count": 234,
   "metadata": {},
   "outputs": [
    {
     "data": {
      "text/plain": [
       "(926, 31)"
      ]
     },
     "execution_count": 234,
     "metadata": {},
     "output_type": "execute_result"
    }
   ],
   "source": [
    "data_log_o.shape"
   ]
  },
  {
   "cell_type": "code",
   "execution_count": 235,
   "metadata": {},
   "outputs": [
    {
     "data": {
      "text/html": [
       "<div>\n",
       "<style scoped>\n",
       "    .dataframe tbody tr th:only-of-type {\n",
       "        vertical-align: middle;\n",
       "    }\n",
       "\n",
       "    .dataframe tbody tr th {\n",
       "        vertical-align: top;\n",
       "    }\n",
       "\n",
       "    .dataframe thead th {\n",
       "        text-align: right;\n",
       "    }\n",
       "</style>\n",
       "<table border=\"1\" class=\"dataframe\">\n",
       "  <thead>\n",
       "    <tr style=\"text-align: right;\">\n",
       "      <th></th>\n",
       "      <th>x1</th>\n",
       "      <th>x2</th>\n",
       "      <th>x3</th>\n",
       "      <th>x4</th>\n",
       "      <th>x5</th>\n",
       "      <th>x6</th>\n",
       "      <th>x7</th>\n",
       "      <th>x8</th>\n",
       "      <th>x9</th>\n",
       "      <th>x10</th>\n",
       "      <th>...</th>\n",
       "      <th>x22</th>\n",
       "      <th>x23</th>\n",
       "      <th>x24</th>\n",
       "      <th>x25</th>\n",
       "      <th>x26</th>\n",
       "      <th>x27</th>\n",
       "      <th>x28</th>\n",
       "      <th>x29</th>\n",
       "      <th>x30</th>\n",
       "      <th>y</th>\n",
       "    </tr>\n",
       "  </thead>\n",
       "  <tbody>\n",
       "    <tr>\n",
       "      <th>0</th>\n",
       "      <td>-14.698830</td>\n",
       "      <td>2.369710</td>\n",
       "      <td>1.089267</td>\n",
       "      <td>-1.262030</td>\n",
       "      <td>-15.650082</td>\n",
       "      <td>-16.665997</td>\n",
       "      <td>15.909853</td>\n",
       "      <td>-11.121045</td>\n",
       "      <td>18.275820</td>\n",
       "      <td>-2.405075</td>\n",
       "      <td>...</td>\n",
       "      <td>-5.421817</td>\n",
       "      <td>15.233291</td>\n",
       "      <td>-3.484405</td>\n",
       "      <td>2.755223</td>\n",
       "      <td>9.766386</td>\n",
       "      <td>6.419560</td>\n",
       "      <td>6.618973</td>\n",
       "      <td>15.171849</td>\n",
       "      <td>1.926773</td>\n",
       "      <td>1</td>\n",
       "    </tr>\n",
       "    <tr>\n",
       "      <th>1</th>\n",
       "      <td>-8.457451</td>\n",
       "      <td>2.182712</td>\n",
       "      <td>0.972360</td>\n",
       "      <td>-4.255289</td>\n",
       "      <td>-11.524392</td>\n",
       "      <td>-4.843399</td>\n",
       "      <td>9.557964</td>\n",
       "      <td>-10.145921</td>\n",
       "      <td>6.655710</td>\n",
       "      <td>-2.821156</td>\n",
       "      <td>...</td>\n",
       "      <td>-5.398857</td>\n",
       "      <td>20.342647</td>\n",
       "      <td>-5.395054</td>\n",
       "      <td>2.816668</td>\n",
       "      <td>14.932127</td>\n",
       "      <td>9.134028</td>\n",
       "      <td>4.826775</td>\n",
       "      <td>12.077634</td>\n",
       "      <td>3.397375</td>\n",
       "      <td>0</td>\n",
       "    </tr>\n",
       "    <tr>\n",
       "      <th>2</th>\n",
       "      <td>-6.541517</td>\n",
       "      <td>1.263892</td>\n",
       "      <td>-0.494469</td>\n",
       "      <td>-2.562072</td>\n",
       "      <td>-8.979410</td>\n",
       "      <td>-23.632245</td>\n",
       "      <td>15.740920</td>\n",
       "      <td>-4.460916</td>\n",
       "      <td>-16.528412</td>\n",
       "      <td>-3.901285</td>\n",
       "      <td>...</td>\n",
       "      <td>-5.339781</td>\n",
       "      <td>10.859401</td>\n",
       "      <td>-2.095555</td>\n",
       "      <td>2.945595</td>\n",
       "      <td>14.778588</td>\n",
       "      <td>2.711564</td>\n",
       "      <td>-0.090958</td>\n",
       "      <td>-5.467509</td>\n",
       "      <td>3.088641</td>\n",
       "      <td>0</td>\n",
       "    </tr>\n",
       "    <tr>\n",
       "      <th>3</th>\n",
       "      <td>-18.139840</td>\n",
       "      <td>1.569545</td>\n",
       "      <td>-3.286717</td>\n",
       "      <td>-4.255045</td>\n",
       "      <td>-16.146687</td>\n",
       "      <td>-25.893126</td>\n",
       "      <td>12.005963</td>\n",
       "      <td>-2.228017</td>\n",
       "      <td>5.853151</td>\n",
       "      <td>-2.951831</td>\n",
       "      <td>...</td>\n",
       "      <td>-5.652446</td>\n",
       "      <td>-8.674892</td>\n",
       "      <td>-9.665123</td>\n",
       "      <td>8.876766</td>\n",
       "      <td>22.335086</td>\n",
       "      <td>10.194627</td>\n",
       "      <td>2.720710</td>\n",
       "      <td>-1.787331</td>\n",
       "      <td>-0.291131</td>\n",
       "      <td>0</td>\n",
       "    </tr>\n",
       "    <tr>\n",
       "      <th>4</th>\n",
       "      <td>-12.500957</td>\n",
       "      <td>2.313632</td>\n",
       "      <td>5.227138</td>\n",
       "      <td>2.586718</td>\n",
       "      <td>-15.022213</td>\n",
       "      <td>-3.105726</td>\n",
       "      <td>18.070314</td>\n",
       "      <td>-7.745197</td>\n",
       "      <td>0.300133</td>\n",
       "      <td>-3.364458</td>\n",
       "      <td>...</td>\n",
       "      <td>-5.551594</td>\n",
       "      <td>13.195368</td>\n",
       "      <td>-5.089818</td>\n",
       "      <td>12.362742</td>\n",
       "      <td>22.624796</td>\n",
       "      <td>4.407471</td>\n",
       "      <td>3.022274</td>\n",
       "      <td>-1.705888</td>\n",
       "      <td>6.650217</td>\n",
       "      <td>0</td>\n",
       "    </tr>\n",
       "  </tbody>\n",
       "</table>\n",
       "<p>5 rows × 31 columns</p>\n",
       "</div>"
      ],
      "text/plain": [
       "          x1        x2        x3        x4         x5         x6         x7  \\\n",
       "0 -14.698830  2.369710  1.089267 -1.262030 -15.650082 -16.665997  15.909853   \n",
       "1  -8.457451  2.182712  0.972360 -4.255289 -11.524392  -4.843399   9.557964   \n",
       "2  -6.541517  1.263892 -0.494469 -2.562072  -8.979410 -23.632245  15.740920   \n",
       "3 -18.139840  1.569545 -3.286717 -4.255045 -16.146687 -25.893126  12.005963   \n",
       "4 -12.500957  2.313632  5.227138  2.586718 -15.022213  -3.105726  18.070314   \n",
       "\n",
       "          x8         x9       x10  ...       x22        x23       x24  \\\n",
       "0 -11.121045  18.275820 -2.405075  ... -5.421817  15.233291 -3.484405   \n",
       "1 -10.145921   6.655710 -2.821156  ... -5.398857  20.342647 -5.395054   \n",
       "2  -4.460916 -16.528412 -3.901285  ... -5.339781  10.859401 -2.095555   \n",
       "3  -2.228017   5.853151 -2.951831  ... -5.652446  -8.674892 -9.665123   \n",
       "4  -7.745197   0.300133 -3.364458  ... -5.551594  13.195368 -5.089818   \n",
       "\n",
       "         x25        x26        x27       x28        x29       x30  y  \n",
       "0   2.755223   9.766386   6.419560  6.618973  15.171849  1.926773  1  \n",
       "1   2.816668  14.932127   9.134028  4.826775  12.077634  3.397375  0  \n",
       "2   2.945595  14.778588   2.711564 -0.090958  -5.467509  3.088641  0  \n",
       "3   8.876766  22.335086  10.194627  2.720710  -1.787331 -0.291131  0  \n",
       "4  12.362742  22.624796   4.407471  3.022274  -1.705888  6.650217  0  \n",
       "\n",
       "[5 rows x 31 columns]"
      ]
     },
     "execution_count": 235,
     "metadata": {},
     "output_type": "execute_result"
    }
   ],
   "source": [
    "data_log_o.head()"
   ]
  },
  {
   "cell_type": "markdown",
   "metadata": {},
   "source": [
    "Slicing Data\n"
   ]
  },
  {
   "cell_type": "code",
   "execution_count": 236,
   "metadata": {},
   "outputs": [],
   "source": [
    "\n",
    "X= data_log_o.loc[:, data_log.columns != 'y']\n",
    "y = data_log_o.loc[:, data_log.columns == 'y']\n",
    "\n"
   ]
  },
  {
   "cell_type": "markdown",
   "metadata": {},
   "source": [
    "10-FOLD CROSS VALIDATION\n"
   ]
  },
  {
   "cell_type": "code",
   "execution_count": 237,
   "metadata": {},
   "outputs": [
    {
     "name": "stdout",
     "output_type": "stream",
     "text": [
      "(648, 30) (648, 1)\n",
      "(278, 30) (278, 1)\n"
     ]
    }
   ],
   "source": [
    "\n",
    "kf = model_selection.KFold(n_splits = 10, shuffle=True, random_state=0)\n",
    "kf.get_n_splits(data_log_o)\n",
    "for train_index, test_index in kf.split(data_log_o):\n",
    "    X_train, X_test, y_train, y_test = train_test_split(\n",
    "    X,y, test_size=0.3, random_state=1)\n",
    "print(X_train.shape,y_train.shape)\n",
    "print(X_test.shape,y_test.shape)"
   ]
  },
  {
   "cell_type": "code",
   "execution_count": null,
   "metadata": {},
   "outputs": [],
   "source": []
  },
  {
   "cell_type": "markdown",
   "metadata": {},
   "source": [
    "Running Rondom Forest directly "
   ]
  },
  {
   "cell_type": "code",
   "execution_count": 212,
   "metadata": {},
   "outputs": [
    {
     "name": "stderr",
     "output_type": "stream",
     "text": [
      "/home/algospark/anaconda3/lib/python3.7/site-packages/ipykernel_launcher.py:6: DataConversionWarning: A column-vector y was passed when a 1d array was expected. Please change the shape of y to (n_samples,), for example using ravel().\n",
      "  \n"
     ]
    },
    {
     "data": {
      "text/plain": [
       "RandomForestClassifier(bootstrap=True, ccp_alpha=0.0, class_weight=None,\n",
       "                       criterion='gini', max_depth=None, max_features='auto',\n",
       "                       max_leaf_nodes=None, max_samples=None,\n",
       "                       min_impurity_decrease=0.0, min_impurity_split=None,\n",
       "                       min_samples_leaf=1, min_samples_split=2,\n",
       "                       min_weight_fraction_leaf=0.0, n_estimators=20,\n",
       "                       n_jobs=None, oob_score=False, random_state=2, verbose=0,\n",
       "                       warm_start=False)"
      ]
     },
     "execution_count": 212,
     "metadata": {},
     "output_type": "execute_result"
    }
   ],
   "source": [
    "# Instantiate rf\n",
    "rf = RandomForestClassifier(n_estimators=20,\n",
    "                           random_state=2)\n",
    "                           \n",
    "# Fit rf to the training set            \n",
    "rf.fit(X_train, y_train)  "
   ]
  },
  {
   "cell_type": "code",
   "execution_count": 213,
   "metadata": {},
   "outputs": [],
   "source": [
    "y_pred = rf.predict(X_test)\n"
   ]
  },
  {
   "cell_type": "markdown",
   "metadata": {},
   "source": [
    "Baseline F1 score"
   ]
  },
  {
   "cell_type": "code",
   "execution_count": 246,
   "metadata": {},
   "outputs": [
    {
     "data": {
      "text/plain": [
       "0.45703125"
      ]
     },
     "execution_count": 246,
     "metadata": {},
     "output_type": "execute_result"
    }
   ],
   "source": [
    "f1_score(y_test, y_pred,average='macro')"
   ]
  },
  {
   "cell_type": "code",
   "execution_count": null,
   "metadata": {},
   "outputs": [],
   "source": []
  },
  {
   "cell_type": "code",
   "execution_count": null,
   "metadata": {},
   "outputs": [],
   "source": []
  },
  {
   "cell_type": "markdown",
   "metadata": {},
   "source": [
    "# Checking the importance of features"
   ]
  },
  {
   "cell_type": "code",
   "execution_count": 216,
   "metadata": {},
   "outputs": [
    {
     "data": {
      "image/png": "[encoded data removed]",
      "text/plain": [
       "<Figure size 1080x720 with 1 Axes>"
      ]
     },
     "metadata": {},
     "output_type": "display_data"
    }
   ],
   "source": [
    "importances = pd.Series(data=rf.feature_importances_,\n",
    "                        index= X_train.columns)\n",
    "\n",
    "# Sort importances\n",
    "importances_sorted = importances.sort_values()\n",
    "# Draw a horizontal barplot of importances_sorted\n",
    "importances_sorted.plot(kind='barh', color='red',figsize=(15,10))\n",
    "plt.title('Features Importances')\n",
    "plt.show()"
   ]
  },
  {
   "cell_type": "code",
   "execution_count": null,
   "metadata": {},
   "outputs": [],
   "source": []
  },
  {
   "cell_type": "markdown",
   "metadata": {},
   "source": [
    "TUNING MODEL"
   ]
  },
  {
   "cell_type": "markdown",
   "metadata": {},
   "source": [
    "Adding Hyperparameters Directly"
   ]
  },
  {
   "cell_type": "code",
   "execution_count": 159,
   "metadata": {},
   "outputs": [
    {
     "data": {
      "text/plain": [
       "{'bootstrap': True,\n",
       " 'ccp_alpha': 0.0,\n",
       " 'class_weight': None,\n",
       " 'criterion': 'gini',\n",
       " 'max_depth': None,\n",
       " 'max_features': 'auto',\n",
       " 'max_leaf_nodes': None,\n",
       " 'max_samples': None,\n",
       " 'min_impurity_decrease': 0.0,\n",
       " 'min_impurity_split': None,\n",
       " 'min_samples_leaf': 1,\n",
       " 'min_samples_split': 2,\n",
       " 'min_weight_fraction_leaf': 0.0,\n",
       " 'n_estimators': 20,\n",
       " 'n_jobs': None,\n",
       " 'oob_score': False,\n",
       " 'random_state': 2,\n",
       " 'verbose': 0,\n",
       " 'warm_start': False}"
      ]
     },
     "execution_count": 159,
     "metadata": {},
     "output_type": "execute_result"
    }
   ],
   "source": [
    "rf.get_params()"
   ]
  },
  {
   "cell_type": "code",
   "execution_count": 160,
   "metadata": {},
   "outputs": [],
   "source": [
    "params_rf = {\n",
    "             'n_estimators': [100, 350, 500],\n",
    "             'max_features': ['log2', 'auto', 'sqrt'],\n",
    "             'min_samples_leaf': [2, 10, 30], \n",
    "             'max_features':[25]\n",
    "             }"
   ]
  },
  {
   "cell_type": "code",
   "execution_count": 161,
   "metadata": {},
   "outputs": [],
   "source": [
    "# Instantiate grid_rf\n",
    "grid_rf = GridSearchCV(estimator=rf,\n",
    "                       param_grid=params_rf,\n",
    "                       scoring='neg_mean_squared_error',\n",
    "                       cv=3,\n",
    "                       verbose=1,\n",
    "                       n_jobs=-1,\n",
    "                      refit=True)\n",
    "                      \n",
    "\n"
   ]
  },
  {
   "cell_type": "code",
   "execution_count": 249,
   "metadata": {},
   "outputs": [
    {
     "name": "stdout",
     "output_type": "stream",
     "text": [
      "Fitting 3 folds for each of 9 candidates, totalling 27 fits\n"
     ]
    },
    {
     "name": "stderr",
     "output_type": "stream",
     "text": [
      "[Parallel(n_jobs=-1)]: Using backend LokyBackend with 4 concurrent workers.\n",
      "[Parallel(n_jobs=-1)]: Done  27 out of  27 | elapsed:   18.2s finished\n",
      "/home/algospark/anaconda3/lib/python3.7/site-packages/sklearn/model_selection/_search.py:739: DataConversionWarning: A column-vector y was passed when a 1d array was expected. Please change the shape of y to (n_samples,), for example using ravel().\n",
      "  self.best_estimator_.fit(X, y, **fit_params)\n"
     ]
    },
    {
     "data": {
      "text/plain": [
       "0.25925925925925924"
      ]
     },
     "execution_count": 249,
     "metadata": {},
     "output_type": "execute_result"
    }
   ],
   "source": [
    "grid_rf.fit(X_train, y_train)\n",
    "best_model = grid_rf.best_estimator_\n",
    "\n",
    "y_pred = best_model.predict(X_test)\n"
   ]
  },
  {
   "cell_type": "markdown",
   "metadata": {},
   "source": [
    "By Tunning hyperparameters the f1 score increased to 0.58"
   ]
  },
  {
   "cell_type": "code",
   "execution_count": 251,
   "metadata": {},
   "outputs": [
    {
     "data": {
      "text/plain": [
       "0.5897889921794304"
      ]
     },
     "execution_count": 251,
     "metadata": {},
     "output_type": "execute_result"
    }
   ],
   "source": [
    "f1_score(y_test, y_pred, average='macro')\n"
   ]
  },
  {
   "cell_type": "code",
   "execution_count": 43,
   "metadata": {},
   "outputs": [],
   "source": []
  },
  {
   "cell_type": "code",
   "execution_count": 44,
   "metadata": {},
   "outputs": [],
   "source": []
  },
  {
   "cell_type": "markdown",
   "metadata": {},
   "source": [
    "# Improvig the performance by tuning grid parameters"
   ]
  },
  {
   "cell_type": "code",
   "execution_count": 149,
   "metadata": {},
   "outputs": [],
   "source": []
  },
  {
   "cell_type": "code",
   "execution_count": 266,
   "metadata": {},
   "outputs": [
    {
     "name": "stdout",
     "output_type": "stream",
     "text": [
      "Parameters currently in use:\n",
      "\n",
      "{'bootstrap': True,\n",
      " 'ccp_alpha': 0.0,\n",
      " 'criterion': 'mse',\n",
      " 'max_depth': None,\n",
      " 'max_features': 'auto',\n",
      " 'max_leaf_nodes': None,\n",
      " 'max_samples': None,\n",
      " 'min_impurity_decrease': 0.0,\n",
      " 'min_impurity_split': None,\n",
      " 'min_samples_leaf': 1,\n",
      " 'min_samples_split': 2,\n",
      " 'min_weight_fraction_leaf': 0.0,\n",
      " 'n_estimators': 100,\n",
      " 'n_jobs': None,\n",
      " 'oob_score': False,\n",
      " 'random_state': 42,\n",
      " 'verbose': 0,\n",
      " 'warm_start': False}\n"
     ]
    }
   ],
   "source": [
    "from sklearn.ensemble import RandomForestRegressor\n",
    "\n",
    "rf = RandomForestRegressor(random_state = 42)\n",
    "\n",
    "from pprint import pprint\n",
    "\n",
    "# Look at parameters used by our current forest\n",
    "print('Parameters currently in use:\\n')\n",
    "pprint(rf.get_params())"
   ]
  },
  {
   "cell_type": "code",
   "execution_count": 268,
   "metadata": {},
   "outputs": [
    {
     "name": "stdout",
     "output_type": "stream",
     "text": [
      "{'n_estimators': [200, 400, 600, 800, 1000, 1200, 1400, 1600, 1800, 2000], 'max_features': [25], 'max_depth': [10, 20, 30, 40, 50, 60, 70, 80, 90, 100, 110, None], 'min_samples_split': [2, 5, 10], 'min_samples_leaf': [1, 2, 4], 'bootstrap': [True, False]}\n"
     ]
    }
   ],
   "source": [
    "from sklearn.model_selection import RandomizedSearchCV\n",
    "# Number of trees in random forest\n",
    "n_estimators = [int(x) for x in np.linspace(start = 200, stop = 2000, num = 10)]\n",
    "# Number of features to consider at every split\n",
    "#max_features = ['auto', 'sqrt']\n",
    "max_features = [25]\n",
    "# Maximum number of levels in tree\n",
    "max_depth = [int(x) for x in np.linspace(10, 110, num = 11)]\n",
    "max_depth.append(None)\n",
    "# Minimum number of samples required to split a node\n",
    "min_samples_split = [2, 5, 10]\n",
    "# Minimum number of samples required at each leaf node\n",
    "min_samples_leaf = [1, 2, 4]\n",
    "# Method of selecting samples for training each tree\n",
    "bootstrap = [True, False]\n",
    "\n",
    "# Create the random grid\n",
    "random_grid = {'n_estimators': n_estimators,\n",
    "               'max_features': max_features,\n",
    "               'max_depth': max_depth,\n",
    "               'min_samples_split': min_samples_split,\n",
    "               'min_samples_leaf': min_samples_leaf,\n",
    "               'bootstrap': bootstrap}\n",
    "print(random_grid)"
   ]
  },
  {
   "cell_type": "markdown",
   "metadata": {},
   "source": [
    "Folds were reduced due to time complexity"
   ]
  },
  {
   "cell_type": "code",
   "execution_count": 269,
   "metadata": {},
   "outputs": [
    {
     "name": "stdout",
     "output_type": "stream",
     "text": [
      "Fitting 5 folds for each of 60 candidates, totalling 300 fits\n"
     ]
    },
    {
     "name": "stderr",
     "output_type": "stream",
     "text": [
      "[Parallel(n_jobs=-1)]: Using backend LokyBackend with 4 concurrent workers.\n",
      "[Parallel(n_jobs=-1)]: Done  33 tasks      | elapsed:  2.7min\n",
      "[Parallel(n_jobs=-1)]: Done 154 tasks      | elapsed: 10.8min\n",
      "[Parallel(n_jobs=-1)]: Done 300 out of 300 | elapsed: 22.0min finished\n",
      "/home/algospark/anaconda3/lib/python3.7/site-packages/sklearn/model_selection/_search.py:739: DataConversionWarning: A column-vector y was passed when a 1d array was expected. Please change the shape of y to (n_samples,), for example using ravel().\n",
      "  self.best_estimator_.fit(X, y, **fit_params)\n"
     ]
    },
    {
     "data": {
      "text/plain": [
       "RandomizedSearchCV(cv=5, error_score=nan,\n",
       "                   estimator=RandomForestClassifier(bootstrap=True,\n",
       "                                                    ccp_alpha=0.0,\n",
       "                                                    class_weight=None,\n",
       "                                                    criterion='gini',\n",
       "                                                    max_depth=None,\n",
       "                                                    max_features='auto',\n",
       "                                                    max_leaf_nodes=None,\n",
       "                                                    max_samples=None,\n",
       "                                                    min_impurity_decrease=0.0,\n",
       "                                                    min_impurity_split=None,\n",
       "                                                    min_samples_leaf=1,\n",
       "                                                    min_samples_split=2,\n",
       "                                                    min_weight_fraction_leaf=0.0,\n",
       "                                                    n_estimators=100,\n",
       "                                                    n_jobs...\n",
       "                   param_distributions={'bootstrap': [True, False],\n",
       "                                        'max_depth': [10, 20, 30, 40, 50, 60,\n",
       "                                                      70, 80, 90, 100, 110,\n",
       "                                                      None],\n",
       "                                        'max_features': [25],\n",
       "                                        'min_samples_leaf': [1, 2, 4],\n",
       "                                        'min_samples_split': [2, 5, 10],\n",
       "                                        'n_estimators': [200, 400, 600, 800,\n",
       "                                                         1000, 1200, 1400, 1600,\n",
       "                                                         1800, 2000]},\n",
       "                   pre_dispatch='2*n_jobs', random_state=42, refit=True,\n",
       "                   return_train_score=False, scoring='neg_mean_absolute_error',\n",
       "                   verbose=2)"
      ]
     },
     "execution_count": 269,
     "metadata": {},
     "output_type": "execute_result"
    }
   ],
   "source": [
    "# Use the random grid to search for best hyperparameters\n",
    "# First create the base model to tune\n",
    "#rf = RandomForestRegressor()\n",
    "rf= RandomForestClassifier()\n",
    "# Random search of parameters, using  fold cross validation, \n",
    "# search across 100 different combinations, and use all available cores\n",
    "rf_random = RandomizedSearchCV(estimator=rf, param_distributions=random_grid,\n",
    "                              n_iter = 60, scoring='neg_mean_absolute_error', \n",
    "                              cv = 5, verbose=2, random_state=42, n_jobs=-1)\n",
    "\n",
    "# Fit the random search model\n",
    "rf_random.fit(X_train, y_train)"
   ]
  },
  {
   "cell_type": "code",
   "execution_count": 270,
   "metadata": {},
   "outputs": [
    {
     "data": {
      "text/plain": [
       "{'n_estimators': 1400,\n",
       " 'min_samples_split': 2,\n",
       " 'min_samples_leaf': 1,\n",
       " 'max_features': 25,\n",
       " 'max_depth': 20,\n",
       " 'bootstrap': True}"
      ]
     },
     "execution_count": 270,
     "metadata": {},
     "output_type": "execute_result"
    }
   ],
   "source": [
    "rf_random.best_params_"
   ]
  },
  {
   "cell_type": "code",
   "execution_count": 271,
   "metadata": {},
   "outputs": [],
   "source": [
    "from sklearn.model_selection import GridSearchCV\n",
    "#Create the parameter grid based on the results of random search \n",
    "param_grid = {\n",
    "    'n_estimators':[1400],\n",
    "     'min_samples_split': [2],\n",
    "     'min_samples_leaf': [1],\n",
    "     'max_features':[25],\n",
    "     'max_depth': [20],\n",
    "     'bootstrap': [False]\n",
    "}\n",
    "# Instantiate the grid search model\n",
    "grid_search = GridSearchCV(estimator = rf, param_grid = param_grid, \n",
    "                          cv = 3, n_jobs = -1, verbose = 2)"
   ]
  },
  {
   "cell_type": "code",
   "execution_count": 272,
   "metadata": {},
   "outputs": [
    {
     "name": "stdout",
     "output_type": "stream",
     "text": [
      "Fitting 3 folds for each of 1 candidates, totalling 3 fits\n"
     ]
    },
    {
     "name": "stderr",
     "output_type": "stream",
     "text": [
      "[Parallel(n_jobs=-1)]: Using backend LokyBackend with 4 concurrent workers.\n",
      "[Parallel(n_jobs=-1)]: Done   3 out of   3 | elapsed:   21.0s finished\n",
      "/home/algospark/anaconda3/lib/python3.7/site-packages/sklearn/model_selection/_search.py:739: DataConversionWarning: A column-vector y was passed when a 1d array was expected. Please change the shape of y to (n_samples,), for example using ravel().\n",
      "  self.best_estimator_.fit(X, y, **fit_params)\n"
     ]
    },
    {
     "data": {
      "text/plain": [
       "GridSearchCV(cv=3, error_score=nan,\n",
       "             estimator=RandomForestClassifier(bootstrap=True, ccp_alpha=0.0,\n",
       "                                              class_weight=None,\n",
       "                                              criterion='gini', max_depth=None,\n",
       "                                              max_features='auto',\n",
       "                                              max_leaf_nodes=None,\n",
       "                                              max_samples=None,\n",
       "                                              min_impurity_decrease=0.0,\n",
       "                                              min_impurity_split=None,\n",
       "                                              min_samples_leaf=1,\n",
       "                                              min_samples_split=2,\n",
       "                                              min_weight_fraction_leaf=0.0,\n",
       "                                              n_estimators=100, n_jobs=None,\n",
       "                                              oob_score=False,\n",
       "                                              random_state=None, verbose=0,\n",
       "                                              warm_start=False),\n",
       "             iid='deprecated', n_jobs=-1,\n",
       "             param_grid={'bootstrap': [False], 'max_depth': [20],\n",
       "                         'max_features': [25], 'min_samples_leaf': [1],\n",
       "                         'min_samples_split': [2], 'n_estimators': [1400]},\n",
       "             pre_dispatch='2*n_jobs', refit=True, return_train_score=False,\n",
       "             scoring=None, verbose=2)"
      ]
     },
     "execution_count": 272,
     "metadata": {},
     "output_type": "execute_result"
    }
   ],
   "source": [
    "grid_search.fit(X_train, y_train)"
   ]
  },
  {
   "cell_type": "code",
   "execution_count": 273,
   "metadata": {},
   "outputs": [
    {
     "data": {
      "text/plain": [
       "{'bootstrap': False,\n",
       " 'max_depth': 20,\n",
       " 'max_features': 25,\n",
       " 'min_samples_leaf': 1,\n",
       " 'min_samples_split': 2,\n",
       " 'n_estimators': 1400}"
      ]
     },
     "execution_count": 273,
     "metadata": {},
     "output_type": "execute_result"
    }
   ],
   "source": [
    "grid_search.best_params_"
   ]
  },
  {
   "cell_type": "code",
   "execution_count": 274,
   "metadata": {},
   "outputs": [
    {
     "name": "stdout",
     "output_type": "stream",
     "text": [
      "0.6313886210221794\n"
     ]
    }
   ],
   "source": [
    "best_grid = grid_search.best_estimator_\n",
    "y_pred=best_grid.predict(X_test)\n",
    "grid_accuracy=f1_score(y_test,y_pred,average= 'macro')\n",
    "\n",
    "print(grid_accuracy)"
   ]
  },
  {
   "cell_type": "code",
   "execution_count": null,
   "metadata": {},
   "outputs": [],
   "source": [
    "##Comparison REsult"
   ]
  },
  {
   "cell_type": "code",
   "execution_count": null,
   "metadata": {},
   "outputs": [],
   "source": []
  }
 ],
 "metadata": {
  "kernelspec": {
   "display_name": "Python 3",
   "language": "python",
   "name": "python3"
  },
  "language_info": {
   "codemirror_mode": {
    "name": "ipython",
    "version": 3
   },
   "file_extension": ".py",
   "mimetype": "text/x-python",
   "name": "python",
   "nbconvert_exporter": "python",
   "pygments_lexer": "ipython3",
   "version": "3.7.6"
  }
 },
 "nbformat": 4,
 "nbformat_minor": 2
}
